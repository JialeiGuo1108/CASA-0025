{
 "cells": [
  {
   "cell_type": "markdown",
   "metadata": {
    "colab_type": "text",
    "id": "view-in-github"
   },
   "source": [
    "<a href=\"https://colab.research.google.com/github/JialeiGuo1108/CASA0025/blob/main/notebooks/w03_questions.ipynb\" target=\"_parent\"><img src=\"https://colab.research.google.com/assets/colab-badge.svg\" alt=\"Open In Colab\"/></a>"
   ]
  },
  {
   "cell_type": "markdown",
   "metadata": {
    "id": "1nJd8g3jy9GP"
   },
   "source": [
    "## 加载数据"
   ]
  },
  {
   "cell_type": "code",
   "execution_count": 1,
   "metadata": {
    "colab": {
     "base_uri": "https://localhost:8080/"
    },
    "id": "nmeyc-5pr91F",
    "outputId": "3f7b17e5-8757-4eff-87af-5d69502d2877",
    "scrolled": true
   },
   "outputs": [
    {
     "name": "stdout",
     "output_type": "stream",
     "text": [
      "Requirement already satisfied: duckdb in /opt/conda/lib/python3.11/site-packages (1.0.0)\n",
      "Collecting leafmap\n",
      "  Downloading leafmap-0.42.9-py2.py3-none-any.whl.metadata (16 kB)\n",
      "Collecting anywidget (from leafmap)\n",
      "  Downloading anywidget-0.9.13-py3-none-any.whl.metadata (7.2 kB)\n",
      "Collecting bqplot (from leafmap)\n",
      "  Downloading bqplot-0.12.44-py2.py3-none-any.whl.metadata (6.4 kB)\n",
      "Requirement already satisfied: colour in /opt/conda/lib/python3.11/site-packages (from leafmap) (0.1.5)\n",
      "Requirement already satisfied: folium in /opt/conda/lib/python3.11/site-packages (from leafmap) (0.17.0)\n",
      "Collecting gdown (from leafmap)\n",
      "  Downloading gdown-5.2.0-py3-none-any.whl.metadata (5.8 kB)\n",
      "Collecting geojson (from leafmap)\n",
      "  Downloading geojson-3.2.0-py3-none-any.whl.metadata (16 kB)\n",
      "Collecting ipyevents (from leafmap)\n",
      "  Downloading ipyevents-2.0.2-py3-none-any.whl.metadata (2.9 kB)\n",
      "Collecting ipyfilechooser (from leafmap)\n",
      "  Downloading ipyfilechooser-0.6.0-py3-none-any.whl.metadata (6.4 kB)\n",
      "Requirement already satisfied: ipyleaflet in /opt/conda/lib/python3.11/site-packages (from leafmap) (0.19.2)\n",
      "Collecting ipyvuetify (from leafmap)\n",
      "  Downloading ipyvuetify-1.10.0-py2.py3-none-any.whl.metadata (7.5 kB)\n",
      "Requirement already satisfied: ipywidgets in /opt/conda/lib/python3.11/site-packages (from leafmap) (8.1.5)\n",
      "Requirement already satisfied: matplotlib in /opt/conda/lib/python3.11/site-packages (from leafmap) (3.8.4)\n",
      "Requirement already satisfied: numpy in /opt/conda/lib/python3.11/site-packages (from leafmap) (1.26.4)\n",
      "Requirement already satisfied: pandas in /opt/conda/lib/python3.11/site-packages (from leafmap) (2.2.2)\n",
      "Requirement already satisfied: plotly in /opt/conda/lib/python3.11/site-packages (from leafmap) (5.24.1)\n",
      "Requirement already satisfied: psutil in /opt/conda/lib/python3.11/site-packages (from leafmap) (6.0.0)\n",
      "Collecting pyshp (from leafmap)\n",
      "  Downloading pyshp-2.3.1-py2.py3-none-any.whl.metadata (55 kB)\n",
      "Requirement already satisfied: pystac-client in /opt/conda/lib/python3.11/site-packages (from leafmap) (0.8.3)\n",
      "Collecting python-box (from leafmap)\n",
      "  Downloading python_box-7.3.2-py3-none-any.whl.metadata (8.0 kB)\n",
      "Collecting scooby (from leafmap)\n",
      "  Downloading scooby-0.10.0-py3-none-any.whl.metadata (15 kB)\n",
      "Collecting whiteboxgui (from leafmap)\n",
      "  Downloading whiteboxgui-2.3.0-py2.py3-none-any.whl.metadata (5.7 kB)\n",
      "Requirement already satisfied: xyzservices in /opt/conda/lib/python3.11/site-packages (from leafmap) (2024.9.0)\n",
      "Collecting psygnal>=0.8.1 (from anywidget->leafmap)\n",
      "  Downloading psygnal-0.11.1-py3-none-any.whl.metadata (7.2 kB)\n",
      "Requirement already satisfied: typing-extensions>=4.2.0 in /opt/conda/lib/python3.11/site-packages (from anywidget->leafmap) (4.12.2)\n",
      "Requirement already satisfied: comm>=0.1.3 in /opt/conda/lib/python3.11/site-packages (from ipywidgets->leafmap) (0.2.2)\n",
      "Requirement already satisfied: ipython>=6.1.0 in /opt/conda/lib/python3.11/site-packages (from ipywidgets->leafmap) (8.27.0)\n",
      "Requirement already satisfied: traitlets>=4.3.1 in /opt/conda/lib/python3.11/site-packages (from ipywidgets->leafmap) (5.14.3)\n",
      "Requirement already satisfied: widgetsnbextension~=4.0.12 in /opt/conda/lib/python3.11/site-packages (from ipywidgets->leafmap) (4.0.13)\n",
      "Requirement already satisfied: jupyterlab-widgets~=3.0.12 in /opt/conda/lib/python3.11/site-packages (from ipywidgets->leafmap) (3.0.13)\n",
      "Requirement already satisfied: traittypes>=0.0.6 in /opt/conda/lib/python3.11/site-packages (from bqplot->leafmap) (0.2.1)\n",
      "Requirement already satisfied: python-dateutil>=2.8.2 in /opt/conda/lib/python3.11/site-packages (from pandas->leafmap) (2.9.0)\n",
      "Requirement already satisfied: pytz>=2020.1 in /opt/conda/lib/python3.11/site-packages (from pandas->leafmap) (2024.1)\n",
      "Requirement already satisfied: tzdata>=2022.7 in /opt/conda/lib/python3.11/site-packages (from pandas->leafmap) (2024.1)\n",
      "Requirement already satisfied: branca>=0.6.0 in /opt/conda/lib/python3.11/site-packages (from folium->leafmap) (0.7.2)\n",
      "Requirement already satisfied: jinja2>=2.9 in /opt/conda/lib/python3.11/site-packages (from folium->leafmap) (3.1.4)\n",
      "Requirement already satisfied: requests in /opt/conda/lib/python3.11/site-packages (from folium->leafmap) (2.32.3)\n",
      "Requirement already satisfied: beautifulsoup4 in /opt/conda/lib/python3.11/site-packages (from gdown->leafmap) (4.12.3)\n",
      "Requirement already satisfied: filelock in /opt/conda/lib/python3.11/site-packages (from gdown->leafmap) (3.16.1)\n",
      "Requirement already satisfied: tqdm in /opt/conda/lib/python3.11/site-packages (from gdown->leafmap) (4.66.5)\n",
      "Requirement already satisfied: jupyter-leaflet<0.20,>=0.19 in /opt/conda/lib/python3.11/site-packages (from ipyleaflet->leafmap) (0.19.2)\n",
      "Collecting ipyvue<2,>=1.7 (from ipyvuetify->leafmap)\n",
      "  Downloading ipyvue-1.11.2-py2.py3-none-any.whl.metadata (1.1 kB)\n",
      "Requirement already satisfied: contourpy>=1.0.1 in /opt/conda/lib/python3.11/site-packages (from matplotlib->leafmap) (1.3.0)\n",
      "Requirement already satisfied: cycler>=0.10 in /opt/conda/lib/python3.11/site-packages (from matplotlib->leafmap) (0.12.1)\n",
      "Requirement already satisfied: fonttools>=4.22.0 in /opt/conda/lib/python3.11/site-packages (from matplotlib->leafmap) (4.53.1)\n",
      "Requirement already satisfied: kiwisolver>=1.3.1 in /opt/conda/lib/python3.11/site-packages (from matplotlib->leafmap) (1.4.7)\n",
      "Requirement already satisfied: packaging>=20.0 in /opt/conda/lib/python3.11/site-packages (from matplotlib->leafmap) (24.1)\n",
      "Requirement already satisfied: pillow>=8 in /opt/conda/lib/python3.11/site-packages (from matplotlib->leafmap) (10.4.0)\n",
      "Requirement already satisfied: pyparsing>=2.3.1 in /opt/conda/lib/python3.11/site-packages (from matplotlib->leafmap) (3.1.4)\n",
      "Requirement already satisfied: tenacity>=6.2.0 in /opt/conda/lib/python3.11/site-packages (from plotly->leafmap) (9.0.0)\n",
      "Requirement already satisfied: pystac>=1.10.0 in /opt/conda/lib/python3.11/site-packages (from pystac[validation]>=1.10.0->pystac-client->leafmap) (1.10.1)\n",
      "Collecting ipytree (from whiteboxgui->leafmap)\n",
      "  Downloading ipytree-0.2.2-py2.py3-none-any.whl.metadata (849 bytes)\n",
      "Collecting whitebox (from whiteboxgui->leafmap)\n",
      "  Downloading whitebox-2.3.5-py2.py3-none-any.whl.metadata (10 kB)\n",
      "Requirement already satisfied: decorator in /opt/conda/lib/python3.11/site-packages (from ipython>=6.1.0->ipywidgets->leafmap) (5.1.1)\n",
      "Requirement already satisfied: jedi>=0.16 in /opt/conda/lib/python3.11/site-packages (from ipython>=6.1.0->ipywidgets->leafmap) (0.19.1)\n",
      "Requirement already satisfied: matplotlib-inline in /opt/conda/lib/python3.11/site-packages (from ipython>=6.1.0->ipywidgets->leafmap) (0.1.7)\n",
      "Requirement already satisfied: prompt-toolkit<3.1.0,>=3.0.41 in /opt/conda/lib/python3.11/site-packages (from ipython>=6.1.0->ipywidgets->leafmap) (3.0.47)\n",
      "Requirement already satisfied: pygments>=2.4.0 in /opt/conda/lib/python3.11/site-packages (from ipython>=6.1.0->ipywidgets->leafmap) (2.18.0)\n",
      "Requirement already satisfied: stack-data in /opt/conda/lib/python3.11/site-packages (from ipython>=6.1.0->ipywidgets->leafmap) (0.6.2)\n",
      "Requirement already satisfied: pexpect>4.3 in /opt/conda/lib/python3.11/site-packages (from ipython>=6.1.0->ipywidgets->leafmap) (4.9.0)\n",
      "Requirement already satisfied: MarkupSafe>=2.0 in /opt/conda/lib/python3.11/site-packages (from jinja2>=2.9->folium->leafmap) (2.1.5)\n",
      "Requirement already satisfied: jsonschema~=4.18 in /opt/conda/lib/python3.11/site-packages (from pystac[validation]>=1.10.0->pystac-client->leafmap) (4.23.0)\n",
      "Requirement already satisfied: six>=1.5 in /opt/conda/lib/python3.11/site-packages (from python-dateutil>=2.8.2->pandas->leafmap) (1.16.0)\n",
      "Requirement already satisfied: charset-normalizer<4,>=2 in /opt/conda/lib/python3.11/site-packages (from requests->folium->leafmap) (3.3.2)\n",
      "Requirement already satisfied: idna<4,>=2.5 in /opt/conda/lib/python3.11/site-packages (from requests->folium->leafmap) (3.8)\n",
      "Requirement already satisfied: urllib3<3,>=1.21.1 in /opt/conda/lib/python3.11/site-packages (from requests->folium->leafmap) (2.2.2)\n",
      "Requirement already satisfied: certifi>=2017.4.17 in /opt/conda/lib/python3.11/site-packages (from requests->folium->leafmap) (2024.8.30)\n",
      "Requirement already satisfied: soupsieve>1.2 in /opt/conda/lib/python3.11/site-packages (from beautifulsoup4->gdown->leafmap) (2.5)\n",
      "Requirement already satisfied: PySocks!=1.5.7,>=1.5.6 in /opt/conda/lib/python3.11/site-packages (from requests[socks]->gdown->leafmap) (1.7.1)\n",
      "Requirement already satisfied: Click>=6.0 in /opt/conda/lib/python3.11/site-packages (from whitebox->whiteboxgui->leafmap) (8.1.7)\n",
      "Requirement already satisfied: parso<0.9.0,>=0.8.3 in /opt/conda/lib/python3.11/site-packages (from jedi>=0.16->ipython>=6.1.0->ipywidgets->leafmap) (0.8.4)\n",
      "Requirement already satisfied: attrs>=22.2.0 in /opt/conda/lib/python3.11/site-packages (from jsonschema~=4.18->pystac[validation]>=1.10.0->pystac-client->leafmap) (24.2.0)\n",
      "Requirement already satisfied: jsonschema-specifications>=2023.03.6 in /opt/conda/lib/python3.11/site-packages (from jsonschema~=4.18->pystac[validation]>=1.10.0->pystac-client->leafmap) (2023.12.1)\n",
      "Requirement already satisfied: referencing>=0.28.4 in /opt/conda/lib/python3.11/site-packages (from jsonschema~=4.18->pystac[validation]>=1.10.0->pystac-client->leafmap) (0.35.1)\n",
      "Requirement already satisfied: rpds-py>=0.7.1 in /opt/conda/lib/python3.11/site-packages (from jsonschema~=4.18->pystac[validation]>=1.10.0->pystac-client->leafmap) (0.20.0)\n",
      "Requirement already satisfied: ptyprocess>=0.5 in /opt/conda/lib/python3.11/site-packages (from pexpect>4.3->ipython>=6.1.0->ipywidgets->leafmap) (0.7.0)\n",
      "Requirement already satisfied: wcwidth in /opt/conda/lib/python3.11/site-packages (from prompt-toolkit<3.1.0,>=3.0.41->ipython>=6.1.0->ipywidgets->leafmap) (0.2.13)\n",
      "Requirement already satisfied: executing>=1.2.0 in /opt/conda/lib/python3.11/site-packages (from stack-data->ipython>=6.1.0->ipywidgets->leafmap) (2.1.0)\n",
      "Requirement already satisfied: asttokens>=2.1.0 in /opt/conda/lib/python3.11/site-packages (from stack-data->ipython>=6.1.0->ipywidgets->leafmap) (2.4.1)\n",
      "Requirement already satisfied: pure-eval in /opt/conda/lib/python3.11/site-packages (from stack-data->ipython>=6.1.0->ipywidgets->leafmap) (0.2.3)\n",
      "Downloading leafmap-0.42.9-py2.py3-none-any.whl (515 kB)\n",
      "Downloading anywidget-0.9.13-py3-none-any.whl (213 kB)\n",
      "Downloading bqplot-0.12.44-py2.py3-none-any.whl (1.2 MB)\n",
      "\u001b[2K   \u001b[90m━━━━━━━━━━━━━━━━━━━━━━━━━━━━━━━━━━━━━━━━\u001b[0m \u001b[32m1.2/1.2 MB\u001b[0m \u001b[31m11.7 MB/s\u001b[0m eta \u001b[36m0:00:00\u001b[0m\n",
      "\u001b[?25hDownloading gdown-5.2.0-py3-none-any.whl (18 kB)\n",
      "Downloading geojson-3.2.0-py3-none-any.whl (15 kB)\n",
      "Downloading ipyevents-2.0.2-py3-none-any.whl (101 kB)\n",
      "Downloading ipyfilechooser-0.6.0-py3-none-any.whl (11 kB)\n",
      "Downloading ipyvuetify-1.10.0-py2.py3-none-any.whl (6.1 MB)\n",
      "\u001b[2K   \u001b[90m━━━━━━━━━━━━━━━━━━━━━━━━━━━━━━━━━━━━━━━━\u001b[0m \u001b[32m6.1/6.1 MB\u001b[0m \u001b[31m12.5 MB/s\u001b[0m eta \u001b[36m0:00:00\u001b[0ma \u001b[36m0:00:01\u001b[0m\n",
      "\u001b[?25hDownloading pyshp-2.3.1-py2.py3-none-any.whl (46 kB)\n",
      "Downloading python_box-7.3.2-py3-none-any.whl (29 kB)\n",
      "Downloading scooby-0.10.0-py3-none-any.whl (18 kB)\n",
      "Downloading whiteboxgui-2.3.0-py2.py3-none-any.whl (108 kB)\n",
      "Downloading ipyvue-1.11.2-py2.py3-none-any.whl (2.7 MB)\n",
      "\u001b[2K   \u001b[90m━━━━━━━━━━━━━━━━━━━━━━━━━━━━━━━━━━━━━━━━\u001b[0m \u001b[32m2.7/2.7 MB\u001b[0m \u001b[31m12.9 MB/s\u001b[0m eta \u001b[36m0:00:00\u001b[0m00:01\u001b[0m\n",
      "\u001b[?25hDownloading psygnal-0.11.1-py3-none-any.whl (76 kB)\n",
      "Downloading ipytree-0.2.2-py2.py3-none-any.whl (1.3 MB)\n",
      "\u001b[2K   \u001b[90m━━━━━━━━━━━━━━━━━━━━━━━━━━━━━━━━━━━━━━━━\u001b[0m \u001b[32m1.3/1.3 MB\u001b[0m \u001b[31m14.1 MB/s\u001b[0m eta \u001b[36m0:00:00\u001b[0m\n",
      "\u001b[?25hDownloading whitebox-2.3.5-py2.py3-none-any.whl (72 kB)\n",
      "Installing collected packages: whitebox, scooby, python-box, pyshp, psygnal, geojson, gdown, ipyvue, ipytree, ipyfilechooser, ipyevents, bqplot, anywidget, whiteboxgui, ipyvuetify, leafmap\n",
      "Successfully installed anywidget-0.9.13 bqplot-0.12.44 gdown-5.2.0 geojson-3.2.0 ipyevents-2.0.2 ipyfilechooser-0.6.0 ipytree-0.2.2 ipyvue-1.11.2 ipyvuetify-1.10.0 leafmap-0.42.9 psygnal-0.11.1 pyshp-2.3.1 python-box-7.3.2 scooby-0.10.0 whitebox-2.3.5 whiteboxgui-2.3.0\n",
      "Note: you may need to restart the kernel to use updated packages.\n"
     ]
    }
   ],
   "source": [
    "%pip install duckdb leafmap"
   ]
  },
  {
   "cell_type": "code",
   "execution_count": 2,
   "metadata": {
    "id": "7ppM9XXNsXrd"
   },
   "outputs": [],
   "source": [
    "import duckdb\n",
    "#leafmap-Python library to visualize spatial data\n",
    "import leafmap"
   ]
  },
  {
   "cell_type": "code",
   "execution_count": 3,
   "metadata": {
    "colab": {
     "base_uri": "https://localhost:8080/"
    },
    "id": "M_zEDDkh82iq",
    "outputId": "b2330d35-395d-4e5e-9186-e37b9821ec15"
   },
   "outputs": [
    {
     "name": "stdout",
     "output_type": "stream",
     "text": [
      "1.0.0\n"
     ]
    }
   ],
   "source": [
    "print(duckdb.__version__)  # 检查当前 DuckDB 版本"
   ]
  },
  {
   "cell_type": "code",
   "execution_count": 4,
   "metadata": {
    "colab": {
     "base_uri": "https://localhost:8080/",
     "height": 125
    },
    "id": "DlzqoPAIsd1u",
    "outputId": "f9167b1e-f49e-4057-b404-ad399f1c76e2"
   },
   "outputs": [
    {
     "name": "stderr",
     "output_type": "stream",
     "text": [
      "Downloading...\n",
      "From: https://open.gishub.org/data/duckdb/nyc_data.db.zip\n",
      "To: /home/jovyan/work/CASA0025/notebooks/nyc_data.db.zip\n",
      "100%|██████████| 8.60M/8.60M [00:00<00:00, 11.9MB/s]"
     ]
    },
    {
     "name": "stdout",
     "output_type": "stream",
     "text": [
      "Extracting files...\n"
     ]
    },
    {
     "name": "stderr",
     "output_type": "stream",
     "text": [
      "\n"
     ]
    },
    {
     "data": {
      "text/plain": [
       "'/home/jovyan/work/CASA0025/notebooks/nyc_data.db.zip'"
      ]
     },
     "execution_count": 4,
     "metadata": {},
     "output_type": "execute_result"
    }
   ],
   "source": [
    "url = \"https://open.gishub.org/data/duckdb/nyc_data.db.zip\"\n",
    "leafmap.download_file(url, unzip=True)"
   ]
  },
  {
   "cell_type": "code",
   "execution_count": 5,
   "metadata": {
    "id": "YerJy2vxse4e"
   },
   "outputs": [],
   "source": [
    "con = duckdb.connect('nyc_data.db')\n",
    "#加载spatial拓展\n",
    "con.install_extension('spatial')\n",
    "con.load_extension('spatial')"
   ]
  },
  {
   "cell_type": "code",
   "execution_count": 6,
   "metadata": {
    "colab": {
     "base_uri": "https://localhost:8080/"
    },
    "id": "9nHoGFZ-simv",
    "outputId": "b9e0eddb-22b1-496f-bc7f-ea77a6fbff31"
   },
   "outputs": [
    {
     "data": {
      "text/plain": [
       "┌─────────────────────┐\n",
       "│        name         │\n",
       "│       varchar       │\n",
       "├─────────────────────┤\n",
       "│ nyc_census_blocks   │\n",
       "│ nyc_homicides       │\n",
       "│ nyc_neighborhoods   │\n",
       "│ nyc_streets         │\n",
       "│ nyc_subway_stations │\n",
       "└─────────────────────┘"
      ]
     },
     "execution_count": 6,
     "metadata": {},
     "output_type": "execute_result"
    }
   ],
   "source": [
    "con.sql(\"SHOW TABLES;\")"
   ]
  },
  {
   "cell_type": "code",
   "execution_count": 7,
   "metadata": {
    "colab": {
     "base_uri": "https://localhost:8080/"
    },
    "id": "-zr2N_m-tJgL",
    "outputId": "31ec461f-ee88-487c-ded3-3121392fea73"
   },
   "outputs": [
    {
     "data": {
      "text/plain": [
       "┌───────────────────┬──────────────────────────────────────────────┐\n",
       "│       NAME        │               st_astext(geom)                │\n",
       "│      varchar      │                   varchar                    │\n",
       "├───────────────────┼──────────────────────────────────────────────┤\n",
       "│ Cortlandt St      │ POINT (583521.854408956 4507077.862599085)   │\n",
       "│ Rector St         │ POINT (583324.4866324601 4506805.373160211)  │\n",
       "│ South Ferry       │ POINT (583304.1823994748 4506069.654048115)  │\n",
       "│ 138th St          │ POINT (590250.10594797 4518558.019924332)    │\n",
       "│ 149th St          │ POINT (590454.7399891173 4519145.719617855)  │\n",
       "│ 149th St          │ POINT (590465.8934191109 4519168.697483203)  │\n",
       "│ 161st St          │ POINT (590573.169495527 4520214.766177284)   │\n",
       "│ 167th St          │ POINT (591252.8314104103 4520950.353355553)  │\n",
       "│ 167th St          │ POINT (590946.3972262995 4521077.318976877)  │\n",
       "│ 170th St          │ POINT (591583.6111452815 4521434.846626811)  │\n",
       "│    ·              │                      ·                       │\n",
       "│    ·              │                      ·                       │\n",
       "│    ·              │                      ·                       │\n",
       "│ JFK Terminal 1    │ POINT (602356.9561669775 4499829.669655836)  │\n",
       "│ JFK Terminal 2-3  │ POINT (602526.112504933 4499699.646828213)   │\n",
       "│ JFK Terminal 4    │ POINT (602985.6731458901 4499897.286220534)  │\n",
       "│ JFK Terminal 5-6  │ POINT (603245.7503829238 4500232.851042057)  │\n",
       "│ JFK Terminal 7    │ POINT (602880.326628096 4500459.602709553)   │\n",
       "│ JFK Terminal 8    │ POINT (602433.3533596311 4500363.8128236225) │\n",
       "│ Federal Circle    │ POINT (600903.1428474564 4501689.113908147)  │\n",
       "│ Long Term Parking │ POINT (599552.1129832724 4502056.229470152)  │\n",
       "│ Howard Beach      │ POINT (598862.0205107569 4501868.071868393)  │\n",
       "│ Jamaica           │ POINT (600689.9370847167 4506179.234498333)  │\n",
       "├───────────────────┴──────────────────────────────────────────────┤\n",
       "│ 491 rows (20 shown)                                    2 columns │\n",
       "└──────────────────────────────────────────────────────────────────┘"
      ]
     },
     "execution_count": 7,
     "metadata": {},
     "output_type": "execute_result"
    }
   ],
   "source": [
    "con.sql(\"\"\"\n",
    "SELECT name, ST_AsText(geom)\n",
    "FROM nyc_subway_stations;\n",
    "\"\"\")"
   ]
  },
  {
   "cell_type": "markdown",
   "metadata": {
    "id": "HmVl7XVWzAU3"
   },
   "source": [
    "### 4.1 Exercises\n",
    "- What is the area of the 'West Village' neighborhood?\n",
    "\n",
    "(Hint: The area is given in square meters. **To get an area in hectares, divide by 10000. To get an area in acres, divide by 4047.**)"
   ]
  },
  {
   "cell_type": "code",
   "execution_count": 8,
   "metadata": {
    "colab": {
     "base_uri": "https://localhost:8080/"
    },
    "id": "Z_voRu_Ay_gC",
    "outputId": "4bc4e5e0-b84e-4278-c778-8258c8a05744"
   },
   "outputs": [
    {
     "data": {
      "text/plain": [
       "┌──────────────┬────────────────────────┬─────────────────────────┐\n",
       "│     NAME     │ (st_area(geom) / 4047) │ (st_area(geom) / 10000) │\n",
       "│   varchar    │         double         │         double          │\n",
       "├──────────────┼────────────────────────┼─────────────────────────┤\n",
       "│ West Village │      258.1207140223859 │      104.46145296485959 │\n",
       "└──────────────┴────────────────────────┴─────────────────────────┘"
      ]
     },
     "execution_count": 8,
     "metadata": {},
     "output_type": "execute_result"
    }
   ],
   "source": [
    "con.sql(\"\"\"\n",
    "SELECT name,ST_Area(geom)/4047, ST_Area(geom)/10000\n",
    "FROM nyc_neighborhoods\n",
    "WHERE name='West Village';\n",
    "\"\"\")"
   ]
  },
  {
   "cell_type": "markdown",
   "metadata": {
    "id": "Cq3Kv_0czJ5J"
   },
   "source": [
    "- What is the geometry type of ‘Pelham St’佩勒姆街? The length?"
   ]
  },
  {
   "cell_type": "code",
   "execution_count": 14,
   "metadata": {},
   "outputs": [
    {
     "data": {
      "text/plain": [
       "┌───────────┬───────────────────────┬───────────────────┐\n",
       "│   NAME    │ st_geometrytype(geom) │  st_length(geom)  │\n",
       "│  varchar  │     geometry_type     │      double       │\n",
       "├───────────┼───────────────────────┼───────────────────┤\n",
       "│ Pelham St │ MULTILINESTRING       │ 50.32314951660229 │\n",
       "└───────────┴───────────────────────┴───────────────────┘"
      ]
     },
     "execution_count": 14,
     "metadata": {},
     "output_type": "execute_result"
    }
   ],
   "source": [
    "con.sql(\"\"\"\n",
    "SELECT name, ST_GeometryType(geom), ST_Length(geom)\n",
    "FROM nyc_streets\n",
    "WHERE name = 'Pelham St';\n",
    "\"\"\")"
   ]
  },
  {
   "cell_type": "markdown",
   "metadata": {
    "id": "k9p_O-VxzSgy"
   },
   "source": [
    "- What is the GeoJSON representation of the 'Broad St' subway station?"
   ]
  },
  {
   "cell_type": "code",
   "execution_count": 38,
   "metadata": {
    "colab": {
     "base_uri": "https://localhost:8080/"
    },
    "id": "eeHqvFyyzThe",
    "outputId": "25a68864-2fda-4327-a27f-b79e8789d394"
   },
   "outputs": [
    {
     "data": {
      "text/plain": [
       "┌──────────┬──────────────────────────────────────────────────────────────────────┐\n",
       "│   NAME   │                          st_asgeojson(geom)                          │\n",
       "│ varchar  │                                 json                                 │\n",
       "├──────────┼──────────────────────────────────────────────────────────────────────┤\n",
       "│ Broad St │ {\"type\":\"Point\",\"coordinates\":[583571.9059213118,4506714.341192182]} │\n",
       "└──────────┴──────────────────────────────────────────────────────────────────────┘"
      ]
     },
     "execution_count": 38,
     "metadata": {},
     "output_type": "execute_result"
    }
   ],
   "source": [
    "con.sql(\"\"\"\n",
    "SELECT name, ST_AsGeoJSON(geom)\n",
    "FROM nyc_subway_stations\n",
    "WHERE name = 'Broad St';\n",
    "\"\"\")"
   ]
  },
  {
   "cell_type": "markdown",
   "metadata": {
    "id": "jVrQUUHWzVwB"
   },
   "source": [
    "- What is the total length of streets (in kilometers) in New York City?\n",
    "\n",
    "(Hint: The units of measurement of the spatial data are meters, there are 1000 meters in a kilometer.)"
   ]
  },
  {
   "cell_type": "code",
   "execution_count": null,
   "metadata": {
    "colab": {
     "base_uri": "https://localhost:8080/"
    },
    "id": "aSKLL1gQzYG3",
    "outputId": "38a32054-cd2a-48f9-f1fc-d227bafcacf0"
   },
   "outputs": [
    {
     "data": {
      "text/plain": [
       "┌───────────────────────────────┐\n",
       "│ (sum(st_length(geom)) / 1000) │\n",
       "│            double             │\n",
       "├───────────────────────────────┤\n",
       "│            10418.904717199997 │\n",
       "└───────────────────────────────┘"
      ]
     },
     "execution_count": 26,
     "metadata": {},
     "output_type": "execute_result"
    }
   ],
   "source": [
    "con.sql(\"\"\"\n",
    "SELECT sum(ST_length(geom))/1000\n",
    "FROM nyc_streets;\n",
    "\"\"\")"
   ]
  },
  {
   "cell_type": "markdown",
   "metadata": {
    "id": "i3UUQrzxz5v_"
   },
   "source": [
    "- What is the area of Manhattan in acres? (Hint: <font color=#6495ED>both `nyc_census_blocks` and `nyc_neighborhoods` have a **boroname** in them.)"
   ]
  },
  {
   "cell_type": "code",
   "execution_count": 22,
   "metadata": {},
   "outputs": [
    {
     "data": {
      "text/plain": [
       "┌─────────────────────┬─────────────────────────────┐\n",
       "│ any_value(BORONAME) │ (sum(st_area(geom)) / 4047) │\n",
       "│       varchar       │           double            │\n",
       "├─────────────────────┼─────────────────────────────┤\n",
       "│ Manhattan           │          14601.398721554795 │\n",
       "└─────────────────────┴─────────────────────────────┘"
      ]
     },
     "execution_count": 22,
     "metadata": {},
     "output_type": "execute_result"
    }
   ],
   "source": [
    "con.sql(\"\"\"\n",
    "SELECT ANY_VALUE(BORONAME), sum(ST_Area(geom))/4047\n",
    "FROM nyc_census_blocks\n",
    "WHERE BORONAME='Manhattan';\n",
    "\"\"\")"
   ]
  },
  {
   "cell_type": "code",
   "execution_count": 21,
   "metadata": {
    "colab": {
     "base_uri": "https://localhost:8080/",
     "height": 233
    },
    "id": "snHDMhk85Fw9",
    "outputId": "6ae746dc-7e0b-4f81-c0b0-52447d3f9fac"
   },
   "outputs": [
    {
     "data": {
      "text/plain": [
       "┌─────────────────────┬─────────────────────────────┐\n",
       "│ any_value(BORONAME) │ (sum(st_area(geom)) / 4047) │\n",
       "│       varchar       │           double            │\n",
       "├─────────────────────┼─────────────────────────────┤\n",
       "│ Manhattan           │           13965.32012239119 │\n",
       "└─────────────────────┴─────────────────────────────┘"
      ]
     },
     "execution_count": 21,
     "metadata": {},
     "output_type": "execute_result"
    }
   ],
   "source": [
    "con.sql(\"\"\"\n",
    "SELECT ANY_VALUE(BORONAME), sum(ST_Area(geom))/4047\n",
    "FROM nyc_neighborhoods\n",
    "WHERE BORONAME='Manhattan';\n",
    "\"\"\")"
   ]
  },
  {
   "cell_type": "markdown",
   "metadata": {},
   "source": [
    "- What is the most westerly subway station?"
   ]
  },
  {
   "cell_type": "code",
   "execution_count": 67,
   "metadata": {},
   "outputs": [
    {
     "data": {
      "text/plain": [
       "┌─────────────┬───────────────────┐\n",
       "│    NAME     │    st_x(geom)     │\n",
       "│   varchar   │      double       │\n",
       "├─────────────┼───────────────────┤\n",
       "│ Tottenville │ 563292.1172580556 │\n",
       "└─────────────┴───────────────────┘"
      ]
     },
     "execution_count": 67,
     "metadata": {},
     "output_type": "execute_result"
    }
   ],
   "source": [
    "con.sql(\"\"\"\n",
    "SELECT name, ST_X(geom)\n",
    "FROM nyc_subway_stations\n",
    "WHERE ST_X(geom) = (SELECT MIN(ST_X(geom)) FROM nyc_subway_stations);\n",
    "\"\"\")"
   ]
  },
  {
   "cell_type": "code",
   "execution_count": 65,
   "metadata": {},
   "outputs": [
    {
     "data": {
      "text/plain": [
       "┌─────────────┬───────────────────┐\n",
       "│    NAME     │    st_x(geom)     │\n",
       "│   varchar   │      double       │\n",
       "├─────────────┼───────────────────┤\n",
       "│ Tottenville │ 563292.1172580556 │\n",
       "└─────────────┴───────────────────┘"
      ]
     },
     "execution_count": 65,
     "metadata": {},
     "output_type": "execute_result"
    }
   ],
   "source": [
    "con.sql(\"\"\"\n",
    "SELECT name, ST_X(geom)\n",
    "FROM nyc_subway_stations\n",
    "ORDER BY ST_X(geom)\n",
    "LIMIT 1;\n",
    "\"\"\")"
   ]
  },
  {
   "cell_type": "markdown",
   "metadata": {},
   "source": [
    "- How long is 'Columbus Cir' (aka Columbus Circle)?"
   ]
  },
  {
   "cell_type": "code",
   "execution_count": 31,
   "metadata": {},
   "outputs": [
    {
     "data": {
      "text/plain": [
       "┌──────────────┬───────────────────┐\n",
       "│     NAME     │  st_length(geom)  │\n",
       "│   varchar    │      double       │\n",
       "├──────────────┼───────────────────┤\n",
       "│ Columbus Cir │ 308.3419936909855 │\n",
       "└──────────────┴───────────────────┘"
      ]
     },
     "execution_count": 31,
     "metadata": {},
     "output_type": "execute_result"
    }
   ],
   "source": [
    "con.sql(\"\"\"\n",
    "SELECT name, ST_Length(geom)\n",
    "FROM nyc_streets\n",
    "WHERE name='Columbus Cir';\n",
    "\"\"\")"
   ]
  },
  {
   "cell_type": "markdown",
   "metadata": {},
   "source": [
    "- What is the length of streets in New York City, summarized by type?"
   ]
  },
  {
   "cell_type": "code",
   "execution_count": 63,
   "metadata": {},
   "outputs": [
    {
     "data": {
      "text/plain": [
       "┌──────────────────────────────────────────────────┬────────────────────┐\n",
       "│                       TYPE                       │       length       │\n",
       "│                     varchar                      │       double       │\n",
       "├──────────────────────────────────────────────────┼────────────────────┤\n",
       "│ residential                                      │  8629870.337866059 │\n",
       "│ motorway                                         │  403622.4781263628 │\n",
       "│ tertiary                                         │  360394.8790513027 │\n",
       "│ motorway_link                                    │   294261.419479668 │\n",
       "│ secondary                                        │  276264.3038979258 │\n",
       "│ unclassified                                     │  166936.3716044583 │\n",
       "│ primary                                          │  135034.2330179469 │\n",
       "│ footway                                          │  71798.48783780965 │\n",
       "│ service                                          │ 28337.635038596007 │\n",
       "│ trunk                                            │  20353.58198260764 │\n",
       "│ cycleway                                         │  8863.751448259296 │\n",
       "│ pedestrian                                       │  4867.050328250257 │\n",
       "│ construction                                     │  4803.081621035617 │\n",
       "│ residential; motorway_link                       │ 3661.5750629374543 │\n",
       "│ trunk_link                                       │ 3202.1898124020076 │\n",
       "│ primary_link                                     │ 2492.5745708353616 │\n",
       "│ living_street                                    │ 1894.6390545733245 │\n",
       "│ primary; residential; motorway_link; residential │ 1367.7657694133486 │\n",
       "│ undefined                                        │  380.5386191034604 │\n",
       "│ steps                                            │ 282.74522134212725 │\n",
       "│ motorway_link; residential                       │ 215.07778911517033 │\n",
       "├──────────────────────────────────────────────────┴────────────────────┤\n",
       "│ 21 rows                                                     2 columns │\n",
       "└───────────────────────────────────────────────────────────────────────┘"
      ]
     },
     "execution_count": 63,
     "metadata": {},
     "output_type": "execute_result"
    }
   ],
   "source": [
    "con.sql(\"\"\"\n",
    "SELECT type, Sum(ST_Length(geom)) AS length\n",
    "FROM nyc_streets\n",
    "GROUP BY type\n",
    "ORDER BY length DESC;\n",
    "\"\"\")"
   ]
  },
  {
   "cell_type": "code",
   "execution_count": null,
   "metadata": {},
   "outputs": [],
   "source": []
  },
  {
   "cell_type": "markdown",
   "metadata": {},
   "source": [
    "### 5.1 Exercises\n",
    "- What is the geometry value for the street named 'Atlantic Commons'?"
   ]
  },
  {
   "cell_type": "code",
   "execution_count": 54,
   "metadata": {},
   "outputs": [
    {
     "data": {
      "text/plain": [
       "┌──────────────────┬──────────────────────────────────────────────────────────────────────────────────────────────┐\n",
       "│       NAME       │                                       st_astext(geom)                                        │\n",
       "│     varchar      │                                           varchar                                            │\n",
       "├──────────────────┼──────────────────────────────────────────────────────────────────────────────────────────────┤\n",
       "│ Atlantic Commons │ MULTILINESTRING ((586781.7015777241 4504202.153143394, 586863.5196448397 4504215.988170098)) │\n",
       "└──────────────────┴──────────────────────────────────────────────────────────────────────────────────────────────┘"
      ]
     },
     "execution_count": 54,
     "metadata": {},
     "output_type": "execute_result"
    }
   ],
   "source": [
    "con.sql(\"\"\"\n",
    "SELECT name, ST_AsText(geom)\n",
    "FROM nyc_streets\n",
    "WHERE name='Atlantic Commons';\n",
    "\"\"\")"
   ]
  },
  {
   "cell_type": "markdown",
   "metadata": {},
   "source": [
    "- What neighborhood and borough is Atlantic Commons in?"
   ]
  },
  {
   "cell_type": "code",
   "execution_count": 44,
   "metadata": {},
   "outputs": [
    {
     "data": {
      "text/plain": [
       "┌───────────┬──────────────────────┬───────────────────────────────────────────────────────────────────────────────────┐\n",
       "│ BORONAME  │         NAME         │                                       geom                                        │\n",
       "│  varchar  │       varchar        │                                     geometry                                      │\n",
       "├───────────┼──────────────────────┼───────────────────────────────────────────────────────────────────────────────────┤\n",
       "│ Brooklyn  │ Bensonhurst          │ MULTIPOLYGON (((582771.4257198056 4495167.427365481, 584651.2943549604 4497541.…  │\n",
       "│ Manhattan │ East Village         │ MULTIPOLYGON (((585508.7534890148 4509691.267208001, 586826.3570590394 4508984.…  │\n",
       "│ Manhattan │ West Village         │ MULTIPOLYGON (((583263.2776595836 4509242.626023987, 583276.8199068634 4509378.…  │\n",
       "│ The Bronx │ Throggs Neck         │ MULTIPOLYGON (((597640.0090688139 4520272.719938631, 597647.7457808304 4520617.…  │\n",
       "│ The Bronx │ Wakefield-Williams…  │ MULTIPOLYGON (((595285.2053417757 4525938.79838847, 595348.5452399419 4526158.7…  │\n",
       "└───────────┴──────────────────────┴───────────────────────────────────────────────────────────────────────────────────┘"
      ]
     },
     "execution_count": 44,
     "metadata": {},
     "output_type": "execute_result"
    }
   ],
   "source": [
    "#查看neighborhood数据格式\n",
    "con.sql(\"FROM nyc_neighborhoods LIMIT 5\")"
   ]
  },
  {
   "cell_type": "code",
   "execution_count": 55,
   "metadata": {},
   "outputs": [
    {
     "data": {
      "text/plain": [
       "┌──────────┬────────────┐\n",
       "│ BORONAME │    NAME    │\n",
       "│ varchar  │  varchar   │\n",
       "├──────────┼────────────┤\n",
       "│ Brooklyn │ Fort Green │\n",
       "└──────────┴────────────┘"
      ]
     },
     "execution_count": 55,
     "metadata": {},
     "output_type": "execute_result"
    }
   ],
   "source": [
    "#注意括号\n",
    "con.sql(\"\"\"\n",
    "SELECT BORONAME, NAME\n",
    "FROM nyc_neighborhoods\n",
    "WHERE ST_Intersects(\n",
    "geom, \n",
    "ST_GeomFromText('MULTILINESTRING ((586781.7015777241 4504202.153143394, 586863.5196448397 4504215.988170098))')\n",
    ");\n",
    "\"\"\")"
   ]
  },
  {
   "cell_type": "markdown",
   "metadata": {},
   "source": [
    "- What streets does Atlantic Commons join with?"
   ]
  },
  {
   "cell_type": "code",
   "execution_count": 56,
   "metadata": {},
   "outputs": [
    {
     "data": {
      "text/plain": [
       "┌───────────────┐\n",
       "│     NAME      │\n",
       "│    varchar    │\n",
       "├───────────────┤\n",
       "│ S Oxford St   │\n",
       "│ Cumberland St │\n",
       "└───────────────┘"
      ]
     },
     "execution_count": 56,
     "metadata": {},
     "output_type": "execute_result"
    }
   ],
   "source": [
    "con.sql(\"\"\"\n",
    "SELECT name\n",
    "FROM nyc_streets\n",
    "WHERE ST_Touches(\n",
    "geom, \n",
    "ST_GeomFromText('MULTILINESTRING ((586781.7015777241 4504202.153143394, 586863.5196448397 4504215.988170098))')\n",
    ");\n",
    "\"\"\")"
   ]
  },
  {
   "cell_type": "markdown",
   "metadata": {},
   "source": [
    "- Approximately how many people live on (within 50 meters of) Atlantic Commons?"
   ]
  },
  {
   "cell_type": "code",
   "execution_count": 58,
   "metadata": {},
   "outputs": [
    {
     "data": {
      "text/plain": [
       "┌─────────────────┐\n",
       "│ sum(popn_total) │\n",
       "│     int128      │\n",
       "├─────────────────┤\n",
       "│            1438 │\n",
       "└─────────────────┘"
      ]
     },
     "execution_count": 58,
     "metadata": {},
     "output_type": "execute_result"
    }
   ],
   "source": [
    "con.sql(\"\"\"\n",
    "SELECT sum(popn_total)\n",
    "FROM nyc_census_blocks\n",
    "WHERE ST_DWithin(\n",
    "geom, \n",
    "ST_GeomFromText('MULTILINESTRING ((586781.7015777241 4504202.153143394, 586863.5196448397 4504215.988170098))'),\n",
    "50\n",
    ");\n",
    "\"\"\")"
   ]
  }
 ],
 "metadata": {
  "colab": {
   "authorship_tag": "ABX9TyP382KXWZQOLE0TnEJksVg7",
   "include_colab_link": true,
   "provenance": []
  },
  "kernelspec": {
   "display_name": "Python (base)",
   "language": "python",
   "name": "base"
  },
  "language_info": {
   "codemirror_mode": {
    "name": "ipython",
    "version": 3
   },
   "file_extension": ".py",
   "mimetype": "text/x-python",
   "name": "python",
   "nbconvert_exporter": "python",
   "pygments_lexer": "ipython3",
   "version": "3.11.9"
  }
 },
 "nbformat": 4,
 "nbformat_minor": 4
}
